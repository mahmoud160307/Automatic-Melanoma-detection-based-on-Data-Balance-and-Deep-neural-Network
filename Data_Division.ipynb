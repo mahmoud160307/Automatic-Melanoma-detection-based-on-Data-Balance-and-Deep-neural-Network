{
 "cells": [
  {
   "cell_type": "code",
   "execution_count": 1,
   "metadata": {},
   "outputs": [],
   "source": [
    "import pandas as pd\n",
    "import glob\n",
    "import shutil\n",
    "import os"
   ]
  },
  {
   "cell_type": "markdown",
   "metadata": {},
   "source": [
    "# 1- read names of images in csv file according to mealnoma status\n",
    "#Check name of data\n",
    "#check its path\n",
    "#Slice it based on your need columns and rows\n",
    "#store final names of images that will be moved based on its status\n",
    "\n",
    "#.iloc[rows,Columns].values : slicing any values you want from csv file"
   ]
  },
  {
   "cell_type": "code",
   "execution_count": 2,
   "metadata": {},
   "outputs": [
    {
     "name": "stdout",
     "output_type": "stream",
     "text": [
      "0\n"
     ]
    }
   ],
   "source": [
    "dataset =pd.read_csv(\"data.csv\")\n",
    "\n",
    "# .iloc[rows,Columns].values : slicing any values you want from csv file\n",
    "\n",
    "data = dataset.iloc[:,0:2].values\n",
    "#check data retrived \n",
    "print(data[100][1])"
   ]
  },
  {
   "cell_type": "code",
   "execution_count": 3,
   "metadata": {},
   "outputs": [
    {
     "name": "stdout",
     "output_type": "stream",
     "text": [
      "0\n",
      "\n",
      "****************************************\n",
      "\n",
      "[]\n"
     ]
    }
   ],
   "source": [
    "\n",
    "melanoma_names=[]\n",
    "for nameOfimage,status in data:\n",
    "    if status==1.0:\n",
    "        melanoma_names.append(nameOfimage)\n",
    "\n",
    "#check names\n",
    "print(len(melanoma_names))\n",
    "print(\"\\n****************************************\\n\")\n",
    "print(melanoma_names)"
   ]
  },
  {
   "cell_type": "markdown",
   "metadata": {},
   "source": [
    "# 2- move images of melanoma to anther folder\n",
    "#there are two popular options in shutil:\n",
    "#shutil.move(file, dst_dir) #cut image from one folder to another\n",
    "#shutil.copy(file, dst_dir) #move image from one folder to another \n",
    "#check source , destination pathes\n"
   ]
  },
  {
   "cell_type": "code",
   "execution_count": 4,
   "metadata": {},
   "outputs": [],
   "source": [
    "src_dir = \"D:/Faculty Work/Master/Work/melanoma skin cancer detection/Implementation/DataSet/ISIC2019/training_input\"\n",
    "dst_dir = \"D:/Faculty Work/Master/Work/melanoma skin cancer detection/Implementation/DataSet/ISIC2019/9-Other\"\n",
    "\n",
    "# name+\".jpg\"  : represent each image name of melanoma concated with extension\n",
    "for name in melanoma_names :\n",
    "    for file in glob.iglob(os.path.join(src_dir, name+\".jpg\")):\n",
    "        shutil.move(file, dst_dir)"
   ]
  },
  {
   "cell_type": "code",
   "execution_count": null,
   "metadata": {},
   "outputs": [],
   "source": []
  }
 ],
 "metadata": {
  "kernelspec": {
   "display_name": "Python 3",
   "language": "python",
   "name": "python3"
  },
  "language_info": {
   "codemirror_mode": {
    "name": "ipython",
    "version": 3
   },
   "file_extension": ".py",
   "mimetype": "text/x-python",
   "name": "python",
   "nbconvert_exporter": "python",
   "pygments_lexer": "ipython3",
   "version": "3.6.13"
  }
 },
 "nbformat": 4,
 "nbformat_minor": 2
}
